{
 "cells": [
  {
   "cell_type": "markdown",
   "metadata": {},
   "source": [
    "## Notebook purpose\n",
    "\n",
    "1. Reading stock data from various available free API services.\n",
    "\n",
    "2. Analyse the quality of data \n"
   ]
  },
  {
   "cell_type": "markdown",
   "metadata": {},
   "source": [
    "## Importing libs\n"
   ]
  },
  {
   "cell_type": "code",
   "execution_count": 1,
   "metadata": {},
   "outputs": [],
   "source": [
    "%load_ext autoreload\n",
    "%autoreload 2\n",
    "%matplotlib inline"
   ]
  },
  {
   "cell_type": "code",
   "execution_count": 2,
   "metadata": {},
   "outputs": [],
   "source": [
    "import os \n",
    "import sys\n",
    "import ipywidgets as widgets\n",
    "from ipywidgets import interact, interactive, fixed, interact_manual\n",
    "from datetime import datetime\n",
    "import mplfinance as mfin\n",
    "import matplotlib.pyplot as plt\n",
    "import cufflinks as cf\n",
    "from plotly.offline import iplot, init_notebook_mode\n",
    "import altair as alt\n",
    "import shelve\n",
    "from functools import partial\n",
    "import plotly.graph_objects as go\n",
    "s = shelve.open('data_shelf.db')"
   ]
  },
  {
   "cell_type": "code",
   "execution_count": 3,
   "metadata": {},
   "outputs": [],
   "source": [
    "sys.path.append('../.')"
   ]
  },
  {
   "cell_type": "code",
   "execution_count": 4,
   "metadata": {},
   "outputs": [],
   "source": [
    "from data import *\n",
    "import data"
   ]
  },
  {
   "cell_type": "markdown",
   "metadata": {},
   "source": [
    "## Downloading data "
   ]
  },
  {
   "cell_type": "code",
   "execution_count": 5,
   "metadata": {},
   "outputs": [],
   "source": [
    "symbols = ['AAPL', 'TSLA', \"GOOG\", 'FB', 'GS']\n",
    "countries = ['United States', 'India', 'China']\n",
    "supported_frameworks = datadownloader.supported_frameworks"
   ]
  },
  {
   "cell_type": "code",
   "execution_count": 6,
   "metadata": {},
   "outputs": [],
   "source": [
    "def download_and_display(symbol = widgets.Dropdown(options=symbols,\n",
    "                                                    value='AAPL',\n",
    "                                                    description='Stock Ticker:',\n",
    "                                                    disabled=False,\n",
    "                                                   ), \n",
    "                         start_date = widgets.DatePicker(description='Pick start date', \n",
    "                                                         value=datetime.strptime('01/01/2021', '%d/%m/%Y'),\n",
    "                                                         disabled=False),\n",
    "                         end_date = widgets.DatePicker(description='Pick end date', \n",
    "                                                       value=datetime.strptime('01/10/2021', '%d/%m/%Y'),\n",
    "                                                       disabled=False),\n",
    "                         country = widgets.Dropdown(options=countries,\n",
    "                                                    value='United States',\n",
    "                                                    description='Country:',\n",
    "                                                    disabled=False,\n",
    "                                                   ),\n",
    "                         framework = widgets.Dropdown(options=supported_frameworks,\n",
    "                                                    value='yahoo_fin',\n",
    "                                                    description='API Framework:',\n",
    "                                                    disabled=False,\n",
    "                                                   ),\n",
    "                        ):\n",
    "    ticker = symbol\n",
    "    start_date = start_date.strftime('%d/%m/%Y')\n",
    "    end_date = end_date.strftime('%d/%m/%Y')\n",
    "    df = datadownloader.get_daily_historical_data(ticker, \n",
    "                                                  start_date=start_date, \n",
    "                                                  end_date=end_date, \n",
    "                                                  country=country, \n",
    "                                                  framework=framework)\n",
    "    print(start_date)\n",
    "    df['ticker'] = ticker\n",
    "    print(df.head())\n",
    "    s['df'] = df"
   ]
  },
  {
   "cell_type": "code",
   "execution_count": 10,
   "metadata": {},
   "outputs": [],
   "source": [
    "downloader = interactive(download_and_display)"
   ]
  },
  {
   "cell_type": "code",
   "execution_count": 11,
   "metadata": {},
   "outputs": [
    {
     "data": {
      "application/vnd.jupyter.widget-view+json": {
       "model_id": "227bbd8a245a45edaf229b4f7cd286db",
       "version_major": 2,
       "version_minor": 0
      },
      "text/plain": [
       "interactive(children=(Dropdown(description='Stock Ticker:', options=('AAPL', 'TSLA', 'GOOG', 'FB', 'GS'), valu…"
      ]
     },
     "metadata": {},
     "output_type": "display_data"
    }
   ],
   "source": [
    "display(downloader)"
   ]
  },
  {
   "cell_type": "code",
   "execution_count": 31,
   "metadata": {},
   "outputs": [],
   "source": [
    "def visualize_chart(start_date = widgets.DatePicker(description='Pick start date', \n",
    "                                               value=datetime.strptime('01/01/2021', '%d/%m/%Y'),\n",
    "                                               disabled=False),\n",
    "                   end_date = widgets.DatePicker(description='Pick start date', \n",
    "                                               value=datetime.strptime('01/10/2021', '%d/%m/%Y'),\n",
    "                                               disabled=False)):\n",
    "    \n",
    "    df = s['df'].loc[start_date.strftime('%d/%m/%Y'):].reset_index().rename(columns={'index':'date'})\n",
    "    fig = go.Figure(data=[go.Candlestick(x=df['date'],\n",
    "                open=df['open'],\n",
    "                high=df['high'],\n",
    "                low=df['low'],\n",
    "                close=df['close'])])\n",
    "    fig.update_layout(xaxis_rangeslider_visible=False)\n",
    "    fig.update_layout(\n",
    "    title=f\"Stock Chart of {df.ticker.iloc[0]}\",\n",
    "    xaxis_title=\"date\",\n",
    "    yaxis_title=\"Price\")\n",
    "    fig.show()\n",
    "#     qf = cf.QuantFig(df, title=\"Apple's stock price in 2021\", name='AAPL')\n",
    "#     qf.iplot()\n",
    "    \n"
   ]
  },
  {
   "cell_type": "code",
   "execution_count": 32,
   "metadata": {},
   "outputs": [],
   "source": [
    "visualizer = interactive(visualize_chart)"
   ]
  },
  {
   "cell_type": "code",
   "execution_count": 33,
   "metadata": {},
   "outputs": [
    {
     "data": {
      "application/vnd.jupyter.widget-view+json": {
       "model_id": "af67db15cff4404d89ab82bc0f8324c2",
       "version_major": 2,
       "version_minor": 0
      },
      "text/plain": [
       "interactive(children=(DatePicker(value=datetime.datetime(2021, 1, 1, 0, 0), description='Pick start date'), Da…"
      ]
     },
     "metadata": {},
     "output_type": "display_data"
    }
   ],
   "source": [
    "display(visualizer)"
   ]
  },
  {
   "cell_type": "code",
   "execution_count": null,
   "metadata": {},
   "outputs": [],
   "source": []
  }
 ],
 "metadata": {
  "kernelspec": {
   "display_name": "Python 3",
   "language": "python",
   "name": "python3"
  },
  "language_info": {
   "codemirror_mode": {
    "name": "ipython",
    "version": 3
   },
   "file_extension": ".py",
   "mimetype": "text/x-python",
   "name": "python",
   "nbconvert_exporter": "python",
   "pygments_lexer": "ipython3",
   "version": "3.6.12"
  },
  "toc": {
   "base_numbering": 1,
   "nav_menu": {},
   "number_sections": true,
   "sideBar": true,
   "skip_h1_title": false,
   "title_cell": "Table of Contents",
   "title_sidebar": "Contents",
   "toc_cell": false,
   "toc_position": {},
   "toc_section_display": true,
   "toc_window_display": false
  }
 },
 "nbformat": 4,
 "nbformat_minor": 4
}

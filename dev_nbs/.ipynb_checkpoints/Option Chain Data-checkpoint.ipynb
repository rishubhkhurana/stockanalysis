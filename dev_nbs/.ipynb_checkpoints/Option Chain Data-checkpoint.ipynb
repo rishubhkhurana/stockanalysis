{
 "cells": [
  {
   "cell_type": "markdown",
   "metadata": {},
   "source": [
    "## Importing Libs"
   ]
  },
  {
   "cell_type": "code",
   "execution_count": 8,
   "metadata": {},
   "outputs": [
    {
     "name": "stdout",
     "output_type": "stream",
     "text": [
      "The autoreload extension is already loaded. To reload it, use:\n",
      "  %reload_ext autoreload\n"
     ]
    }
   ],
   "source": [
    "%load_ext autoreload\n",
    "%autoreload 2\n",
    "%matplotlib inline"
   ]
  },
  {
   "cell_type": "code",
   "execution_count": 45,
   "metadata": {
    "code_folding": []
   },
   "outputs": [],
   "source": [
    "# importing Libs\n",
    "import os\n",
    "import sys\n",
    "import re\n",
    "import numpy as np\n",
    "import pandas as pd\n",
    "import pickle as pkl\n",
    "import lxml.etree as etb\n",
    "import lxml.html as ht\n",
    "import matplotlib.pyplot as plt\n",
    "from pathlib import Path\n",
    "import requests\n",
    "Path.ls = lambda x: list(x.iterdir())"
   ]
  },
  {
   "cell_type": "code",
   "execution_count": 10,
   "metadata": {},
   "outputs": [
    {
     "data": {
      "text/plain": [
       "[PosixPath('/mnt/c/Study/dashboards/stock/.idea'),\n",
       " PosixPath('/mnt/c/Study/dashboards/stock/data'),\n",
       " PosixPath('/mnt/c/Study/dashboards/stock/dev_nbs'),\n",
       " PosixPath('/mnt/c/Study/dashboards/stock/main.py'),\n",
       " PosixPath('/mnt/c/Study/dashboards/stock/temp_files')]"
      ]
     },
     "execution_count": 10,
     "metadata": {},
     "output_type": "execute_result"
    }
   ],
   "source": [
    "Path(os.getcwd()).parent.ls()"
   ]
  },
  {
   "cell_type": "code",
   "execution_count": 11,
   "metadata": {},
   "outputs": [],
   "source": [
    "sys.path.append(str(Path(os.getcwd()).parent/'data'))"
   ]
  },
  {
   "cell_type": "code",
   "execution_count": 57,
   "metadata": {},
   "outputs": [],
   "source": [
    "from nseindia import *\n",
    "from icharts import *"
   ]
  },
  {
   "cell_type": "markdown",
   "metadata": {},
   "source": [
    "## Icharts Data"
   ]
  },
  {
   "cell_type": "code",
   "execution_count": 52,
   "metadata": {},
   "outputs": [
    {
     "data": {
      "text/plain": [
       "['https://options.icharts.in/opt/PutCallOITotal.php']"
      ]
     },
     "execution_count": 52,
     "metadata": {},
     "output_type": "execute_result"
    }
   ],
   "source": [
    "get_icharts_urls()"
   ]
  },
  {
   "cell_type": "code",
   "execution_count": 54,
   "metadata": {},
   "outputs": [
    {
     "data": {
      "text/plain": [
       "['pcr']"
      ]
     },
     "execution_count": 54,
     "metadata": {},
     "output_type": "execute_result"
    }
   ],
   "source": [
    "get_icharts_keys()"
   ]
  },
  {
   "cell_type": "code",
   "execution_count": 58,
   "metadata": {},
   "outputs": [],
   "source": [
    "pcr_url = get_icharts_url('pcr')"
   ]
  },
  {
   "cell_type": "code",
   "execution_count": 60,
   "metadata": {},
   "outputs": [
    {
     "ename": "NameError",
     "evalue": "name 'request' is not defined",
     "output_type": "error",
     "traceback": [
      "\u001b[0;31m---------------------------------------------------------------------------\u001b[0m",
      "\u001b[0;31mNameError\u001b[0m                                 Traceback (most recent call last)",
      "\u001b[0;32m<ipython-input-60-c1da355152e5>\u001b[0m in \u001b[0;36m<module>\u001b[0;34m\u001b[0m\n\u001b[0;32m----> 1\u001b[0;31m \u001b[0mrequest\u001b[0m\u001b[0;34m.\u001b[0m\u001b[0mget\u001b[0m\u001b[0;34m(\u001b[0m\u001b[0mpcr_url\u001b[0m\u001b[0;34m)\u001b[0m\u001b[0;34m\u001b[0m\u001b[0;34m\u001b[0m\u001b[0m\n\u001b[0m",
      "\u001b[0;31mNameError\u001b[0m: name 'request' is not defined"
     ]
    }
   ],
   "source": [
    "request.get(pcr_url)"
   ]
  },
  {
   "cell_type": "code",
   "execution_count": 59,
   "metadata": {},
   "outputs": [
    {
     "data": {
      "text/plain": [
       "'Unable to extract data'"
      ]
     },
     "execution_count": 59,
     "metadata": {},
     "output_type": "execute_result"
    }
   ],
   "source": [
    "get_icharts_data(pcr_url)"
   ]
  },
  {
   "cell_type": "markdown",
   "metadata": {},
   "source": [
    "## Get NSE Data"
   ]
  },
  {
   "cell_type": "code",
   "execution_count": 18,
   "metadata": {},
   "outputs": [
    {
     "data": {
      "text/plain": [
       "['https://www.nseindia.com/api/option-chain-indices?symbol=NIFTY',\n",
       " 'https://www.nseindia.com/api/option-chain-indices?symbol=BANKNIFTY']"
      ]
     },
     "execution_count": 18,
     "metadata": {},
     "output_type": "execute_result"
    }
   ],
   "source": [
    "# get available urls for data scrapping\n",
    "get_available_urls()"
   ]
  },
  {
   "cell_type": "code",
   "execution_count": 19,
   "metadata": {},
   "outputs": [
    {
     "data": {
      "text/plain": [
       "['nifty_oc', 'banknifty_oc']"
      ]
     },
     "execution_count": 19,
     "metadata": {},
     "output_type": "execute_result"
    }
   ],
   "source": [
    "# get all the url keys, since the keys and their respective url is stored in a dictionary\n",
    "get_url_keys()"
   ]
  },
  {
   "cell_type": "code",
   "execution_count": 23,
   "metadata": {},
   "outputs": [],
   "source": [
    "# get the headers we need to pass in order to get the nse data from its website using the requests package\n",
    "headers = get_nse_site_header()\n",
    "# get the nse option chain url for banknifty\n",
    "banknifty_oc = get_url_from_key('banknifty_oc')"
   ]
  },
  {
   "cell_type": "code",
   "execution_count": 44,
   "metadata": {},
   "outputs": [
    {
     "name": "stdout",
     "output_type": "stream",
     "text": [
      "Didn't get the response from NSE website\n"
     ]
    }
   ],
   "source": [
    "data = get_data_from_nse(banknifty_oc, headers=headers)"
   ]
  },
  {
   "cell_type": "code",
   "execution_count": 46,
   "metadata": {},
   "outputs": [],
   "source": [
    "url = 'https://options.icharts.in/opt/PutCallOITotal.php'"
   ]
  },
  {
   "cell_type": "code",
   "execution_count": 48,
   "metadata": {},
   "outputs": [],
   "source": [
    "pcr_data = requests.get(url)"
   ]
  },
  {
   "cell_type": "code",
   "execution_count": 50,
   "metadata": {},
   "outputs": [
    {
     "data": {
      "text/plain": [
       "b'<!DOCTYPE html>\\r\\n<html lang=\"en\">\\r\\n<head>\\r\\n<!-- Global site tag (gtag.js) - Google Analytics -->\\r\\n<script async src=\"https://www.googletagmanager.com/gtag/js?id=G-VSDCH65FCH\"></script>\\r\\n<script>\\r\\n\\twindow.dataLayer = window.dataLayer || [];\\r\\n\\tfunction gtag(){dataLayer.push(arguments);}\\r\\n\\tgtag(\\'js\\', new Date());\\r\\n\\r\\n\\tgtag(\\'config\\', \\'G-VSDCH65FCH\\');\\r\\n\\r\\n\\tif ( window.history.replaceState ) {\\r\\n\\t  window.history.replaceState( null, null, window.location.href );\\r\\n\\t}  \\r\\n</script>\\r\\n    <meta name=\"viewport\" content=\"width=device-width, initial-scale=1.0\">\\r\\n    <meta charset=\"utf-8\" />\\r\\n <link rel=\"stylesheet\" href=\"assets/DarkTheme.css?version=2\">\\t\\r\\n <link href=\"sm-core-css.css\" rel=\"stylesheet\" type=\"text/css\" />\\r\\n <link href=\"blue.css\" rel=\"stylesheet\" type=\"text/css\" />\\r\\n \\r\\n<link rel=\"stylesheet\" href=\"/opt/css/Material_icon.css?4\">\\r\\n<link rel=\"stylesheet\" href=\"assets/mdl/material.indigo-pink.min.css?4\">\\r\\n<script  src=\"assets/mdl/material.min.js?4\"></script>\\r\\n\\r\\n     <!-- jQuery -->\\r\\n    <script type=\"text/javascript\" src=\"jquery2.js\"></script>\\r\\n\\t<script src=\"/opt/js/DarkTheme.js?8\"></script>\\r\\n<link href=\\'https://fonts.googleapis.com/css?family=Roboto+Condensed\\' rel=\\'stylesheet\\' type=\\'text/css\\'>\\r\\n<link rel=\"stylesheet\" href=\"https://cdnjs.cloudflare.com/ajax/libs/font-awesome/4.7.0/css/font-awesome.min.css\">\\r\\n<style>\\t\\t\\r\\n.main-menu-btn {\\r\\n  position: relative;\\r\\n  display: inline-block;\\r\\n  width: 28px;\\r\\n  height: 28px;\\r\\n  text-indent: 28px;\\r\\n  white-space: nowrap;\\r\\n  overflow: hidden;\\r\\n  cursor: pointer;\\r\\n  -webkit-tap-highlight-color: rgba(0,0,0,0);\\r\\n}\\r\\n/* hamburger icon */\\r\\n.main-menu-btn-icon, .main-menu-btn-icon:before, .main-menu-btn-icon:after {\\r\\n  position: absolute;\\r\\n  top: 50%;\\r\\n  left: 2px;\\r\\n  height: 2px;\\r\\n  width: 24px;\\r\\n  background: #bbb;\\r\\n  -webkit-transition: all 0.25s;\\r\\n  transition: all 0.25s;\\r\\n}\\r\\n.main-menu-btn-icon:before {\\r\\n  content: \\'\\';\\r\\n  top: -7px;\\r\\n  left: 0;\\r\\n}\\r\\n.main-menu-btn-icon:after {\\r\\n  content: \\'\\';\\r\\n  top: 7px;\\r\\n  left: 0;\\r\\n}\\r\\n/* x icon */\\r\\n#main-menu-state:checked ~ .main-menu-btn .main-menu-btn-icon {\\r\\n  height: 0;\\r\\n  background: transparent;\\r\\n}\\r\\n#main-menu-state:checked ~ .main-menu-btn .main-menu-btn-icon:before {\\r\\n  top: 0;\\r\\n  -webkit-transform: rotate(-45deg);\\r\\n  transform: rotate(-45deg);\\r\\n}\\r\\n#main-menu-state:checked ~ .main-menu-btn .main-menu-btn-icon:after {\\r\\n  top: 0;\\r\\n  -webkit-transform: rotate(45deg);\\r\\n  transform: rotate(45deg);\\r\\n}\\r\\n/* hide menu state checkbox (keep it visible to screen readers) */\\r\\n#main-menu-state {\\r\\n  position: absolute;\\r\\n  width: 1px;\\r\\n  height: 1px;\\r\\n  margin: -1px;\\r\\n  border: 0;\\r\\n  padding: 0;\\r\\n  overflow: hidden;\\r\\n  clip: rect(1px,1px,1px,1px);\\r\\n}\\r\\n/* hide the menu in mobile view */\\r\\n#main-menu-state:not(:checked) ~ #main-menu {\\r\\n  display: none;\\r\\n}\\r\\n#main-menu-state:checked ~ #main-menu {\\r\\n  display: block;\\r\\n}\\r\\n@media (min-width: 1200px) {\\r\\n  /* hide the button in desktop view */\\r\\n  .main-menu-btn {\\r\\n    position: absolute;\\r\\n    top: -99999px;\\r\\n  }\\r\\n  /* always show the menu in desktop view */\\r\\n  #main-menu-state:not(:checked) ~ #main-menu {\\r\\n    display: block;\\r\\n  }\\r\\n  .telegramclass\\r\\n  {\\r\\n\\tfloat:right!important;  \\r\\n  }\\r\\n}\\r\\n\\r\\n.logoClass{\\r\\n    position: absolute;\\r\\n    top: 10px;\\r\\n    left: 140px;\\r\\n    /* height: 2px; background: #BBB1A3;*/\\r\\n    width: 100px;\\r\\n    color: #1890CC;\\r\\n\\tfont-weight: bold;\\r\\n    -webkit-transition: all 0.25s;\\r\\n    transition: all 0.25s;\\r\\n\\tfont-family:\\'Roboto Condensed\\';\\r\\n}\\r\\n\\r\\n.responsive {text-align: center;}\\r\\n.responsive img { max-width: 100%;}\\r\\n\\r\\n</style>\\t\\t\\r\\n</head>\\r\\n<body>\\r\\n\\r\\n    <nav id=\"main-nav\">\\r\\n \\r\\n\\t<!-- Mobile menu toggle button (hamburger/x icon) -->\\r\\n\\t<input id=\"main-menu-state\" type=\"checkbox\" />\\r\\n\\t<label class=\"main-menu-btn\" for=\"main-menu-state\">\\r\\n\\t  <span class=\"main-menu-btn-icon\"></span> Toggle main menu visibility\\r\\n\\t</label>\\r\\n\\t <!--<span class=\"logoClass\" style=\\'white-space: nowrap;\\'>Options Analysis</span> -->\\r\\n\\t<!-- Sample menu definition -->\\r\\n      <ul id=\"main-menu\" class=\"sm sm-blue\">\\r\\n        <li><a href=\"/opt/index.php\">Home</a></li>\\r\\n\\r\\n\\t\\t<li><a href=\"#\">Futures</a>\\r\\n\\t\\t  <ul>\\r\\n\\t\\t\\t<li><a href=\"/opt/FuturesChart.php\">Futures Chart</a></li>\\r\\n\\t\\t\\t<li><a href=\"/opt/FuturesOIBuildup.php\">Futures OI Buildup</a></li>\\r\\n\\t\\t\\t<li><a href=\"/opt/FuturesOIScan.php\">Futures OI Scan</a></li>\\r\\n\\t\\t\\t<li><a href=\"/opt/FuturesOIBreakup.php\">Futures OI Breakup</a></li>\\r\\n\\t\\t\\t<li><a href=\"/opt/IVR-IVP-Scan.php\">IVR-IVP Scan</a></li>\\r\\n\\t\\t  </ul>\\r\\n\\t\\t</li>\\r\\n\\r\\n\\t\\t<li><a href=\"#\">Options</a>\\r\\n\\t\\t  <ul>\\r\\n\\t\\t\\t<li><a href=\"/opt/OptionsChart.php\">Options Chart</a></li>\\r\\n\\t\\t\\t<li><a href=\"/opt/OptionChain.php\">Options Chain</a></li>\\r\\n\\t\\t\\t<li><a href=\"/opt/OptionOIStats.php\">OI Stats</a></li>\\r\\n\\t\\t\\t<li><a href=\"/opt/OptionSnapshot.php\">Option Snapshot</a></li>\\r\\n\\t\\t\\t<li><a href=\"/opt/OptionsOIBreakup.php\">Options OI Breakup</a></li>\\r\\n\\t\\t\\t<li><a href=\"/opt/OptionsMonitor.php\">Price vs OI</a></li>\\r\\n\\t\\t\\t<li><a href=\"/opt/OIMonitor.php\">Multi Strike OI</a></li>\\r\\n\\t\\t\\t<li><a href=\"/opt/CumulativeOIChange.php\">Cumulative OI Change</a></li>\\r\\n\\t\\t\\t<li><a href=\"/opt/PutCallOITotal.php\">Total PE-CE OI</a></li>\\r\\n\\t\\t\\t<li><a href=\"/opt/MaxPain.php\">Max Pain</a></li>\\r\\n\\t\\t\\t<li><a href=\"/opt/VolatilitySkew.php\">Volatility Skew</a></li>\\r\\n\\t\\t\\t<li><a href=\"/opt/iv.php\">IV Chart</a></li>\\r\\n\\t\\t\\t<li><a href=\"/opt/iv_hv.php\">IV-HV Chart</a></li>\\r\\n\\t\\t\\t<li><a href=\"/opt/ivr.php\">IVR-IVP Chart</a></li>\\r\\n\\t\\t  </ul>\\r\\n\\t\\t</li>\\r\\n\\t\\t\\r\\n        <li><a href=\"#\">Strategies</a>\\r\\n          <ul>\\r\\n            <li><a href=\"#\">Straddle / Strangle</a>\\r\\n              <ul>\\r\\n                <li><a href=\"/opt/StraddleSnapshot.php\">Straddle Snapshot</a></li>\\r\\n                <li><a href=\"/opt/StraddleCharts.php\">Straddle Charts</a></li>\\r\\n                <li><a href=\"/opt/StraddleWatch.php\">Straddle Watch</a></li>\\r\\n                <li><a href=\"/opt/StraddleChartsPlus.php\">Straddle Charts Plus</a></li>\\r\\n                <li><a href=\"/opt/StraddleComboCharts.php\">Straddle Combo Charts</a></li>\\r\\n              </ul>\\r\\n            </li>\\r\\n\\r\\n            <li><a class=\"sub-menu\"  href=\"#\">Spreads</a>\\r\\n              <ul>\\r\\n                <li><a href=\"/opt/SpreadChart.php\">Spread Chart</a></li>\\r\\n              </ul>\\r\\n            </li>\\r\\n\\t\\t\\t<li><a href=\"/opt/Butterfly.php\">Butterfly</a></li>\\r\\n\\t\\t\\t<li><a href=\"/opt/IronButterfly.php\">Iron Condor / Iron Fly</a></li>\\r\\n\\r\\n          </ul>\\r\\n\\t\\t  \\r\\n        </li>\\r\\n\\r\\n        <li><a href=\"#\">Help</a>\\r\\n\\t\\t\\t  <ul>\\r\\n\\t\\t\\t\\t<li><a href=\"https://youtu.be/PDvHnh5cR3M\" target=\\'blank\\'>Video 1 - Introduction</a></li>\\r\\n\\t\\t\\t\\t<li><a href=\"https://youtu.be/Lrwt6fxPJhI\" target=\\'blank\\'>Video 2 - Price Vs OI</a></li>\\r\\n\\t\\t\\t\\t<li><a href=\"https://youtu.be/Ri1vks2mkeM\" target=\\'blank\\'>Video 3 - Futures OI Scan</a></li>\\r\\n\\t\\t\\t\\t<li><a href=\"/opt/Documentation.php\">Documentation</a></li>\\r\\n\\t\\t\\t\\t<li><a href=\"/opt/WebsiteUpdates.php\">Website Updates</a></li>\\r\\n\\t\\t\\t\\t<li><a href=\"/opt/Disclaimer.php\">Disclaimer</a></li>\\r\\n\\t\\t\\t  </ul>\\r\\n\\t\\t</li>\\r\\n\\r\\n\\t\\t\\r\\n\\t\\t<li><a href=\"/opt/SubscriptionDetails.php\">Subscription Details</a></li>\\r\\n\\r\\n\\r\\n\\t\\t\\t\\t\\t\\t\\t<li><a href=\"/opt/login.php\">Login</a></li>\\r\\n\\t\\t\\t<li class=\\'telegramclass\\'><a href=\"https://telegram.me/ichartsoptionstools\">Telegram Channel (Help/Support) &nbsp;<i class=\"fa\" style=\\'font-size:23px;\\'>&#xf2c6;</i></a></li>\\r\\n      </ul>\\r\\n    </nav>\\t\\r\\n\\t\\r\\n    <!-- SmartMenus jQuery plugin -->\\r\\n    <script type=\"text/javascript\" src=\"jquery.smartmenus.js\"></script>\\r\\n    <!-- SmartMenus jQuery init -->\\r\\n    <script type=\"text/javascript\">\\r\\n\\t\\t\\r\\n\\t\\t$(function() {\\r\\n\\t\\t  var $mainMenuState = $(\\'#main-menu-state\\');\\r\\n\\t\\t  if ($mainMenuState.length) {\\r\\n\\t\\t\\t// animate mobile menu\\r\\n\\t\\t\\t$mainMenuState.change(function(e) {\\r\\n\\t\\t\\t  var $menu = $(\\'#main-menu\\');\\r\\n\\t\\t\\t  if (this.checked) {\\r\\n\\t\\t\\t\\t$menu.hide().slideDown(250, function() { $menu.css(\\'display\\', \\'\\'); });\\r\\n\\t\\t\\t  } else {\\r\\n\\t\\t\\t\\t$menu.show().slideUp(250, function() { $menu.css(\\'display\\', \\'\\'); });\\r\\n\\t\\t\\t  }\\r\\n\\t\\t\\t});\\r\\n\\t\\t\\t// hide mobile menu beforeunload\\r\\n\\t\\t\\t$(window).on(\\'beforeunload unload\\', function() {\\r\\n\\t\\t\\t  if ($mainMenuState[0].checked) {\\r\\n\\t\\t\\t\\t$mainMenuState[0].click();\\r\\n\\t\\t\\t  }\\r\\n\\t\\t\\t});\\r\\n\\t\\t  }\\r\\n\\t\\t});\\r\\n    </script>\\r\\n\\t<br>\\r\\n</body>\\r\\n</html>\\r\\n<!DOCTYPE html>\\r\\n<html>\\r\\n<head>\\r\\n<meta charset=\"utf-8\">\\r\\n<title>Login</title>\\r\\n<link rel=\"stylesheet\" href=\"css/style.css?2\" />\\r\\n<link rel=\"stylesheet\" href=\"css/demo.css\" />\\r\\n</head>\\r\\n<body>\\r\\n<div class=\"form\">\\r\\n<h1>Log In</h1>\\r\\n<form action=\"\" method=\"post\" name=\"login\">\\r\\n<input type=\"text\" name=\"username\" placeholder=\"Login ID\" required />\\r\\n<input type=\"password\" name=\"password\" placeholder=\"Password\" required />\\r\\n<input name=\"submit\" type=\"submit\" value=\"Login\" />\\r\\n</form>\\r\\n<p>Not registered yet? <a href=\\'register.php\\'>Register Here</a></p>\\r\\n<p>Forgot password? <a href=\\'ForgotPassword.php\\'>Click Here</a></p>\\r\\n</div>\\r\\n    <!-- SmartMenus jQuery plugin -->\\r\\n    <script type=\"text/javascript\" src=\"jquery.smartmenus.js\"></script>\\r\\n\\r\\n    <!-- SmartMenus jQuery init -->\\r\\n    <script type=\"text/javascript\">\\r\\n    \\t$(function() {\\r\\n    \\t\\t$(\\'#main-menu\\').smartmenus({\\r\\n    \\t\\t\\tsubMenusSubOffsetX: 1,\\r\\n    \\t\\t\\tsubMenusSubOffsetY: -8,\\r\\n\\t\\t\\t\\tshowTimeout: 10,\\r\\n\\t\\t\\t\\thideTimeout: 10\\r\\n    \\t\\t});\\r\\n    \\t});\\r\\n    </script>\\r\\n</body>\\r\\n</html>'"
      ]
     },
     "execution_count": 50,
     "metadata": {},
     "output_type": "execute_result"
    }
   ],
   "source": [
    "pcr_data.content"
   ]
  },
  {
   "cell_type": "markdown",
   "metadata": {},
   "source": [
    "## Data from records"
   ]
  },
  {
   "cell_type": "code",
   "execution_count": null,
   "metadata": {},
   "outputs": [],
   "source": [
    "datapath = '../temp_files/data.pkl'"
   ]
  },
  {
   "cell_type": "code",
   "execution_count": null,
   "metadata": {},
   "outputs": [],
   "source": [
    "with open(datapath, 'rb') as f:\n",
    "    data = pkl.load(f)"
   ]
  },
  {
   "cell_type": "code",
   "execution_count": null,
   "metadata": {},
   "outputs": [],
   "source": [
    "data.keys()"
   ]
  },
  {
   "cell_type": "code",
   "execution_count": null,
   "metadata": {},
   "outputs": [],
   "source": [
    "data['records'].keys()"
   ]
  },
  {
   "cell_type": "code",
   "execution_count": null,
   "metadata": {},
   "outputs": [],
   "source": [
    "for record in data['records']['data']:\n",
    "    print(record.keys())"
   ]
  },
  {
   "cell_type": "code",
   "execution_count": null,
   "metadata": {},
   "outputs": [],
   "source": [
    "data['records']['data'][0]['PE']"
   ]
  },
  {
   "cell_type": "code",
   "execution_count": null,
   "metadata": {},
   "outputs": [],
   "source": [
    "pe_data = pd.DataFrame()\n",
    "ce_data = pd.DataFrame()\n",
    "for record in data['records']['data']:\n",
    "    if 'PE' in record:\n",
    "        temp = pd.DataFrame(record['PE'], index = [0])\n",
    "        pe_data = pe_data.append(temp)\n",
    "    if 'CE' in record:\n",
    "        temp = pd.DataFrame(record['CE'], index = [0])\n",
    "        ce_data = ce_data.append(temp)\n",
    "pe_data = pe_data.reset_index(drop=True)\n",
    "ce_data = ce_data.reset_index(drop=True)\n"
   ]
  },
  {
   "cell_type": "code",
   "execution_count": null,
   "metadata": {},
   "outputs": [],
   "source": [
    "cols_to_drop = ['underlying', 'identifier', 'underlyingValue']\n",
    "cols_to_drop = pe_data.filter(like='ask').columns.tolist()+cols_to_drop\n",
    "cols_to_drop = pe_data.filter(like='bid').columns.tolist()+cols_to_drop\n",
    "pe_data = pe_data.drop(cols_to_drop, axis = 1)\n",
    "ce_data = ce_data.drop(cols_to_drop, axis = 1)"
   ]
  },
  {
   "cell_type": "code",
   "execution_count": null,
   "metadata": {},
   "outputs": [],
   "source": [
    "pe_data.head()"
   ]
  },
  {
   "cell_type": "code",
   "execution_count": null,
   "metadata": {},
   "outputs": [],
   "source": [
    "ce_data.head()"
   ]
  },
  {
   "cell_type": "markdown",
   "metadata": {
    "heading_collapsed": true
   },
   "source": [
    "## Data from filtered"
   ]
  },
  {
   "cell_type": "code",
   "execution_count": null,
   "metadata": {
    "hidden": true
   },
   "outputs": [],
   "source": [
    "pe_data = pd.DataFrame()\n",
    "ce_data = pd.DataFrame()\n",
    "for record in data['filtered']['data']:\n",
    "    if 'PE' in record:\n",
    "        temp = pd.DataFrame(record['PE'], index = [0])\n",
    "        pe_data = pe_data.append(temp)\n",
    "    if 'CE' in record:\n",
    "        temp = pd.DataFrame(record['CE'], index = [0])\n",
    "        ce_data = ce_data.append(temp)\n",
    "pe_data = pe_data.reset_index(drop=True)\n",
    "ce_data = ce_data.reset_index(drop=True)\n"
   ]
  },
  {
   "cell_type": "code",
   "execution_count": null,
   "metadata": {
    "hidden": true
   },
   "outputs": [],
   "source": [
    "data['filtered']['CE']"
   ]
  },
  {
   "cell_type": "code",
   "execution_count": null,
   "metadata": {
    "hidden": true
   },
   "outputs": [],
   "source": [
    "cols_to_drop = ['underlying', 'identifier', 'underlyingValue']\n",
    "cols_to_drop = pe_data.filter(like='ask').columns.tolist()+cols_to_drop\n",
    "cols_to_drop = pe_data.filter(like='bid').columns.tolist()+cols_to_drop\n",
    "pe_data = pe_data.drop(cols_to_drop, axis = 1)\n",
    "ce_data = ce_data.drop(cols_to_drop, axis = 1)"
   ]
  },
  {
   "cell_type": "code",
   "execution_count": null,
   "metadata": {
    "hidden": true
   },
   "outputs": [],
   "source": [
    "pe_data"
   ]
  },
  {
   "cell_type": "markdown",
   "metadata": {},
   "source": [
    "## Price Action Today"
   ]
  },
  {
   "cell_type": "code",
   "execution_count": null,
   "metadata": {},
   "outputs": [],
   "source": [
    "data['records']['index']"
   ]
  },
  {
   "cell_type": "code",
   "execution_count": null,
   "metadata": {},
   "outputs": [],
   "source": []
  }
 ],
 "metadata": {
  "kernelspec": {
   "display_name": "Python 3",
   "language": "python",
   "name": "python3"
  },
  "language_info": {
   "codemirror_mode": {
    "name": "ipython",
    "version": 3
   },
   "file_extension": ".py",
   "mimetype": "text/x-python",
   "name": "python",
   "nbconvert_exporter": "python",
   "pygments_lexer": "ipython3",
   "version": "3.6.12"
  },
  "toc": {
   "base_numbering": 1,
   "nav_menu": {},
   "number_sections": true,
   "sideBar": true,
   "skip_h1_title": false,
   "title_cell": "Table of Contents",
   "title_sidebar": "Contents",
   "toc_cell": false,
   "toc_position": {},
   "toc_section_display": true,
   "toc_window_display": false
  }
 },
 "nbformat": 4,
 "nbformat_minor": 4
}
